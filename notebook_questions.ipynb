{
 "cells": [
  {
   "cell_type": "markdown",
   "metadata": {},
   "source": [
    "# BGES Project : Questions"
   ]
  },
  {
   "cell_type": "code",
   "execution_count": 13,
   "metadata": {},
   "outputs": [],
   "source": [
    "import os\n",
    "os.environ[\"PYARROW_IGNORE_TIMEZONE\"] = \"1\"\n",
    "\n",
    "import pandas as pd\n",
    "import numpy as np\n",
    "from datetime import datetime, date\n",
    "\n",
    "import pyspark.pandas as ps\n",
    "from pyspark.sql import SparkSession\n",
    "from pyspark.sql import Row\n",
    "\n",
    "from sqlalchemy import create_engine\n",
    "from sqlalchemy import text\n",
    "\n",
    "import matplotlib.pyplot as plt\n",
    "import seaborn as sns"
   ]
  },
  {
   "cell_type": "code",
   "execution_count": 14,
   "metadata": {},
   "outputs": [],
   "source": [
    "spark = SparkSession.builder \\\n",
    "    .config(\"spark.driver.extraJavaOptions\", \"-Djava.security.manager=allow\") \\\n",
    "    .config(\"spark.executor.extraJavaOptions\", \"-Djava.security.manager=allow\") \\\n",
    "    .getOrCreate()\n",
    "\n",
    "spark.conf.set(\"spark.sql.session.timeZone\", \"UTC\")"
   ]
  },
  {
   "cell_type": "markdown",
   "metadata": {},
   "source": [
    "## Vérification de l'ETL"
   ]
  },
  {
   "cell_type": "code",
   "execution_count": 15,
   "metadata": {},
   "outputs": [
    {
     "name": "stdout",
     "output_type": "stream",
     "text": [
      "✓ Successfully connected to the database\n"
     ]
    }
   ],
   "source": [
    "DB_USER = 'postgres'\n",
    "DB_PASSWORD = 'postgres'\n",
    "DB_HOST = 'localhost'\n",
    "DB_PORT = '5432'\n",
    "DB_NAME = 'bges'\n",
    "\n",
    "engine = create_engine(f'postgresql://{DB_USER}:{DB_PASSWORD}@{DB_HOST}:{DB_PORT}/{DB_NAME}')\n",
    "\n",
    "try:\n",
    "    with engine.connect() as conn:\n",
    "        result = conn.execute(text(\"SELECT 1\"))\n",
    "        print(\"✓ Successfully connected to the database\")\n",
    "except Exception as e:\n",
    "    print(f\"Error connecting to database: {e}\")"
   ]
  },
  {
   "cell_type": "markdown",
   "metadata": {},
   "source": [
    "Example: List all tables"
   ]
  },
  {
   "cell_type": "code",
   "execution_count": 16,
   "metadata": {},
   "outputs": [
    {
     "name": "stdout",
     "output_type": "stream",
     "text": [
      "\n",
      "Tables in the database:\n",
      "- dim_sector\n",
      "- dim_employee\n",
      "- fact_employee_equipment\n",
      "- fact_business_travel\n",
      "- dim_equipment\n",
      "- dim_date_time\n",
      "- dim_mission_type\n",
      "- dim_location\n",
      "- dim_transport\n"
     ]
    }
   ],
   "source": [
    "with engine.connect() as conn:\n",
    "    tables = conn.execute(text(\"\"\"\n",
    "        SELECT table_name \n",
    "        FROM information_schema.tables \n",
    "        WHERE table_schema = 'public'\n",
    "    \"\"\"))\n",
    "    print(\"\\nTables in the database:\")\n",
    "    for table in tables:\n",
    "        print(f\"- {table[0]}\")"
   ]
  },
  {
   "cell_type": "code",
   "execution_count": 17,
   "metadata": {},
   "outputs": [
    {
     "name": "stdout",
     "output_type": "stream",
     "text": [
      "\n",
      "Rows from dim_transport:\n",
      "   transport_id    transport_name emission_factor\n",
      "0             1             plane          0.1994\n",
      "1             2  public transport          0.1373\n",
      "2             3             train          0.0106\n",
      "3             4              taxi          0.1904\n"
     ]
    }
   ],
   "source": [
    "with engine.connect() as conn:\n",
    "    result = conn.execute(text(\"SELECT * FROM dim_transport\"))\n",
    "    df = pd.DataFrame(result.fetchall(), columns=result.keys())\n",
    "    print(\"\\nRows from dim_transport:\")\n",
    "    print(df.head())"
   ]
  },
  {
   "cell_type": "code",
   "execution_count": 18,
   "metadata": {},
   "outputs": [
    {
     "name": "stdout",
     "output_type": "stream",
     "text": [
      "\n",
      "Rows from dim_sector:\n",
      "   sector_id         sector_name\n",
      "0          1       data engineer\n",
      "1          2  business executive\n",
      "2          3           economist\n",
      "3          4                 hrd\n",
      "4          5   computer engineer\n"
     ]
    }
   ],
   "source": [
    "with engine.connect() as conn:\n",
    "    result = conn.execute(text(\"SELECT * FROM dim_sector\"))\n",
    "    df = pd.DataFrame(result.fetchall(), columns=result.keys())\n",
    "    print(\"\\nRows from dim_sector:\")\n",
    "    print(df)"
   ]
  },
  {
   "cell_type": "code",
   "execution_count": 19,
   "metadata": {},
   "outputs": [
    {
     "name": "stdout",
     "output_type": "stream",
     "text": [
      "\n",
      "Rows from dim_location:\n",
      "   location_id         city    country\n",
      "0            1       berlin  allemagne\n",
      "1            2     shanghai      china\n",
      "2            3  los angeles        usa\n",
      "3            4       london    england\n",
      "4            5        paris     france\n"
     ]
    }
   ],
   "source": [
    "with engine.connect() as conn:\n",
    "    result = conn.execute(text(\"SELECT * FROM dim_location\"))\n",
    "    df = pd.DataFrame(result.fetchall(), columns=result.keys())\n",
    "    print(\"\\nRows from dim_location:\")\n",
    "    print(df.head())"
   ]
  },
  {
   "cell_type": "code",
   "execution_count": 20,
   "metadata": {},
   "outputs": [
    {
     "name": "stdout",
     "output_type": "stream",
     "text": [
      "\n",
      "Rows from dim_date_time:\n",
      "              date_id        date  day  month  year  hour  minute  second\n",
      "0 2024-04-29 03:26:12  2024-04-29   29      4  2024     3      26      12\n",
      "1 2024-04-29 03:10:27  2024-04-29   29      4  2024     3      10      27\n",
      "2 2024-04-29 18:56:14  2024-04-29   29      4  2024    18      56      14\n",
      "3 2024-04-29 14:55:58  2024-04-29   29      4  2024    14      55      58\n",
      "4 2024-04-29 11:24:06  2024-04-29   29      4  2024    11      24       6\n"
     ]
    }
   ],
   "source": [
    "with engine.connect() as conn:\n",
    "    result = conn.execute(text(\"SELECT * FROM dim_date_time\"))\n",
    "    df = pd.DataFrame(result.fetchall(), columns=result.keys())\n",
    "    print(\"\\nRows from dim_date_time:\")\n",
    "    print(df.head())"
   ]
  },
  {
   "cell_type": "code",
   "execution_count": 21,
   "metadata": {},
   "outputs": [
    {
     "name": "stdout",
     "output_type": "stream",
     "text": [
      "\n",
      "Rows from dim_mission_type:\n",
      "   mission_type_id mission_type_name\n",
      "0                1          training\n",
      "1                2           meeting\n",
      "2                3        conference\n",
      "3                4  business meeting\n",
      "4                5       development\n"
     ]
    }
   ],
   "source": [
    "with engine.connect() as conn:\n",
    "    result = conn.execute(text(\"SELECT * FROM dim_mission_type\"))\n",
    "    df = pd.DataFrame(result.fetchall(), columns=result.keys())\n",
    "    print(\"\\nRows from dim_mission_type:\")\n",
    "    print(df)"
   ]
  },
  {
   "cell_type": "code",
   "execution_count": 22,
   "metadata": {},
   "outputs": [
    {
     "name": "stdout",
     "output_type": "stream",
     "text": [
      "\n",
      "Rows from dim_employee:\n",
      "              employee_id last_name first_name  birth_date  birth_city  \\\n",
      "0  KeyPers_Berlin_1230000     Name0  FistName0  1993-11-04       osaka   \n",
      "1  KeyPers_Berlin_1230001     Name1  FistName1  1932-11-22  wellington   \n",
      "2  KeyPers_Berlin_1230002     Name2  FistName2  1990-08-12      sidney   \n",
      "3  KeyPers_Berlin_1230003     Name3  FistName3  1965-05-26       rabat   \n",
      "4  KeyPers_Berlin_1230004     Name4  FistName4  1959-01-18    shanghai   \n",
      "\n",
      "  birth_country social_security_number phone_country_code   phone_number  \\\n",
      "0         japan            NS000000000                NaN  +336##0263188   \n",
      "1   new zealand            NS000000001                NaN  +336##0401873   \n",
      "2     australia            NS000000002                NaN  +336##0524126   \n",
      "3         maroc            NS000000003                NaN  +336##0418484   \n",
      "4         china            NS000000004                NaN  +336##0986317   \n",
      "\n",
      "  address_street_number address_street_name address_complement postal_code  \\\n",
      "0                    57          NomVoie940                NaN       #8830   \n",
      "1                    64          NomVoie711                NaN       #9785   \n",
      "2                    94          NomVoie322                NaN       #4816   \n",
      "3                    78          NomVoie593                NaN       #3546   \n",
      "4                    65          NomVoie404                NaN       #6788   \n",
      "\n",
      "  current_city current_country  sector_id       creation_date  \\\n",
      "0       berlin         germany          1 2010-09-09 11:22:17   \n",
      "1       berlin         germany          2 2017-07-24 16:51:18   \n",
      "2       berlin         germany          1 1997-08-20 04:01:46   \n",
      "3       berlin         germany          3 1998-11-17 19:25:01   \n",
      "4       berlin         germany          1 2010-11-10 04:24:37   \n",
      "\n",
      "     last_update_date  \n",
      "0 2010-09-09 11:22:17  \n",
      "1 2017-07-24 16:51:18  \n",
      "2 1997-08-20 04:01:46  \n",
      "3 1998-11-17 19:25:01  \n",
      "4 2010-11-10 04:24:37  \n"
     ]
    }
   ],
   "source": [
    "with engine.connect() as conn:\n",
    "    result = conn.execute(text(\"SELECT * FROM dim_employee\"))\n",
    "    df = pd.DataFrame(result.fetchall(), columns=result.keys())\n",
    "    print(\"\\nRows from dim_employee:\")\n",
    "    print(df.head())"
   ]
  },
  {
   "cell_type": "code",
   "execution_count": 23,
   "metadata": {},
   "outputs": [
    {
     "name": "stdout",
     "output_type": "stream",
     "text": [
      "\n",
      "Rows from dim_equipment:\n",
      "  equipment_id      equipment_type              model co2_impact_kg\n",
      "0            0  pc fixe sans ecran  modèle par défaut        350.00\n",
      "1            1  pc fixe sans ecran     optiplex micro        174.00\n",
      "2            2  pc fixe sans ecran     optiplex small        240.00\n",
      "3            3  pc fixe sans ecran     optiplex tower        260.00\n",
      "4            4  pc fixe sans ecran   wyse thin client         69.00\n"
     ]
    }
   ],
   "source": [
    "with engine.connect() as conn:\n",
    "    result = conn.execute(text(\"SELECT * FROM dim_equipment\"))\n",
    "    df = pd.DataFrame(result.fetchall(), columns=result.keys())\n",
    "    print(\"\\nRows from dim_equipment:\")\n",
    "    print(df.head())"
   ]
  },
  {
   "cell_type": "code",
   "execution_count": 24,
   "metadata": {},
   "outputs": [
    {
     "name": "stdout",
     "output_type": "stream",
     "text": [
      "\n",
      "Rows from fact_business_travel:\n",
      "          travel_id             employee_id  mission_type_id  \\\n",
      "0  BERLIN_202404290  KeyPers_Berlin_1233512                1   \n",
      "1  BERLIN_202404291  KeyPers_Berlin_1233383                2   \n",
      "2  BERLIN_202404292  KeyPers_Berlin_1231880                3   \n",
      "3  BERLIN_202404293  KeyPers_Berlin_1230994                4   \n",
      "4  BERLIN_202404294  KeyPers_Berlin_1233557                5   \n",
      "\n",
      "   departure_location_id  destination_location_id  transport_id  \\\n",
      "0                      1                        7             1   \n",
      "1                      1                        8             1   \n",
      "2                     39                        9             1   \n",
      "3                      1                        1             2   \n",
      "4                      1                       10             1   \n",
      "\n",
      "              date_id distance_km  is_round_trip  \n",
      "0 2024-04-29 03:26:12     1635.08           True  \n",
      "1 2024-04-29 03:10:27    13457.86           True  \n",
      "2 2024-04-29 18:56:14    18229.26           True  \n",
      "3 2024-04-29 14:55:58       10.00           True  \n",
      "4 2024-04-29 11:24:06    23759.28           True  \n"
     ]
    }
   ],
   "source": [
    "with engine.connect() as conn:\n",
    "    result = conn.execute(text(\"SELECT * FROM fact_business_travel\"))\n",
    "    df = pd.DataFrame(result.fetchall(), columns=result.keys())\n",
    "    print(\"\\nRows from fact_business_travel:\")\n",
    "    print(df.head())"
   ]
  },
  {
   "cell_type": "code",
   "execution_count": 25,
   "metadata": {},
   "outputs": [
    {
     "name": "stdout",
     "output_type": "stream",
     "text": [
      "\n",
      "Rows from fact_employee_equipment:\n",
      "                      id_materiel equipment_id             employee_id  \\\n",
      "0  BERLIN_MATERIEL_INFO_202404290           41  KeyPers_Berlin_1234137   \n",
      "1  LONDON_MATERIEL_INFO_202404290           49  KeyPers_London_1230774   \n",
      "2  LONDON_MATERIEL_INFO_202404291           76  KeyPers_London_1230988   \n",
      "3  LONDON_MATERIEL_INFO_202404292            0  KeyPers_London_1232692   \n",
      "4  LONDON_MATERIEL_INFO_202404293           48  KeyPers_London_1233650   \n",
      "\n",
      "     purchase_date_id  \n",
      "0 2024-04-29 11:33:30  \n",
      "1 2024-04-29 11:12:32  \n",
      "2 2024-04-29 09:33:23  \n",
      "3 2024-04-29 08:57:52  \n",
      "4 2024-04-29 09:11:28  \n"
     ]
    }
   ],
   "source": [
    "with engine.connect() as conn:\n",
    "    result = conn.execute(text(\"SELECT * FROM fact_employee_equipment\"))\n",
    "    df = pd.DataFrame(result.fetchall(), columns=result.keys())\n",
    "    print(\"\\nRows from fact_employee_equipment:\")\n",
    "    print(df.head())"
   ]
  },
  {
   "cell_type": "markdown",
   "metadata": {},
   "source": [
    "## Questions"
   ]
  },
  {
   "cell_type": "markdown",
   "metadata": {},
   "source": [
    "### Question 1 : Combien d'ingénieurs informaticiens travaillent sur le site de Paris ?"
   ]
  },
  {
   "cell_type": "code",
   "execution_count": 26,
   "metadata": {},
   "outputs": [
    {
     "name": "stdout",
     "output_type": "stream",
     "text": [
      "Number of computer engineers in Paris: 1831\n"
     ]
    }
   ],
   "source": [
    "with engine.connect() as conn:\n",
    "    result = conn.execute(text(\"\"\"\n",
    "        SELECT COUNT(*) as nb_computer_engineers\n",
    "        FROM dim_employee e\n",
    "        JOIN dim_sector s ON e.sector_id = s.sector_id\n",
    "        WHERE s.sector_name = 'computer engineer'\n",
    "        AND e.current_city = 'paris'\n",
    "    \"\"\"))\n",
    "    count = result.fetchone()[0]\n",
    "    print(f\"Number of computer engineers in Paris: {count}\")"
   ]
  },
  {
   "cell_type": "markdown",
   "metadata": {},
   "source": [
    "### Question 2 : Combien d'ingénieurs Data travaillent sur les sites de London ?"
   ]
  },
  {
   "cell_type": "code",
   "execution_count": 27,
   "metadata": {},
   "outputs": [
    {
     "name": "stdout",
     "output_type": "stream",
     "text": [
      "Number of data engineers in London: 1568\n"
     ]
    }
   ],
   "source": [
    "with engine.connect() as conn:\n",
    "    result = conn.execute(text(\"\"\"\n",
    "        SELECT COUNT(*) as nb_data_engineers\n",
    "        FROM dim_employee e\n",
    "        JOIN dim_sector s ON e.sector_id = s.sector_id\n",
    "        WHERE s.sector_name = 'data engineer'\n",
    "        AND e.current_city = 'london'\n",
    "    \"\"\"))\n",
    "    count = result.fetchone()[0]\n",
    "    print(f\"Number of data engineers in London: {count}\")"
   ]
  },
  {
   "cell_type": "markdown",
   "metadata": {},
   "source": [
    "### Question 3 : Combien de cadres travaillent dans l'organisation (tous sites compris) ?"
   ]
  },
  {
   "cell_type": "code",
   "execution_count": 28,
   "metadata": {},
   "outputs": [
    {
     "name": "stdout",
     "output_type": "stream",
     "text": [
      "Number of business executives across all sites: 3955\n"
     ]
    }
   ],
   "source": [
    "with engine.connect() as conn:\n",
    "    result = conn.execute(text(\"\"\"\n",
    "        SELECT COUNT(*) as nb_executives\n",
    "        FROM dim_employee e\n",
    "        JOIN dim_sector s ON e.sector_id = s.sector_id\n",
    "        WHERE s.sector_name = 'business executive'\n",
    "    \"\"\"))\n",
    "    count = result.fetchone()[0]\n",
    "    print(f\"Number of business executives across all sites: {count}\")"
   ]
  },
  {
   "cell_type": "markdown",
   "metadata": {},
   "source": [
    "### Question 4 : Combien de PC portables ont été achetés par l'organisation entre mai et octobre 2024 ?"
   ]
  },
  {
   "cell_type": "code",
   "execution_count": 51,
   "metadata": {},
   "outputs": [
    {
     "name": "stdout",
     "output_type": "stream",
     "text": [
      "Number of laptops purchased between May and October 2024: 2420\n"
     ]
    }
   ],
   "source": [
    "with engine.connect() as conn:\n",
    "    result = conn.execute(text(\"\"\"\n",
    "        SELECT COUNT(*) as nb_laptops\n",
    "        FROM fact_employee_equipment fee\n",
    "        JOIN dim_equipment e ON fee.equipment_id = e.equipment_id\n",
    "        JOIN dim_date_time dt ON fee.purchase_date_id = dt.date_id\n",
    "        WHERE e.equipment_type = 'pc portable'\n",
    "        AND dt.date BETWEEN '2024-05-01' AND '2024-10-31'\n",
    "    \"\"\"))\n",
    "    count = result.fetchone()[0]\n",
    "    print(f\"Number of laptops purchased between May and October 2024: {count}\")"
   ]
  },
  {
   "cell_type": "markdown",
   "metadata": {},
   "source": [
    "### Question 5 : Quelle a été l'impact carbone des PC portables entre mai et octobre 2024 ?"
   ]
  },
  {
   "cell_type": "code",
   "execution_count": 31,
   "metadata": {},
   "outputs": [
    {
     "name": "stdout",
     "output_type": "stream",
     "text": [
      "Carbon impact of laptops between May and October 2024: 647562.00 kg CO2\n"
     ]
    }
   ],
   "source": [
    "with engine.connect() as conn:\n",
    "    result = conn.execute(text(\"\"\"\n",
    "        SELECT SUM(e.co2_impact_kg) as total_co2_impact\n",
    "        FROM fact_employee_equipment fee\n",
    "        JOIN dim_equipment e ON fee.equipment_id = e.equipment_id\n",
    "        JOIN dim_date_time dt ON fee.purchase_date_id = dt.date_id\n",
    "        WHERE e.equipment_type = 'pc portable'\n",
    "        AND dt.date BETWEEN '2024-05-01' AND '2024-10-31'\n",
    "    \"\"\"))\n",
    "    impact = result.fetchone()[0]\n",
    "    print(f\"Carbon impact of laptops between May and October 2024: {impact:.2f} kg CO2\")"
   ]
  },
  {
   "cell_type": "markdown",
   "metadata": {},
   "source": [
    "### Question 6 : Quelle a été l'impact carbone des PC fixes sans ecran achetés par les ingénieurs Data entre mai et septembre 2024 sur les sites de Paris et New-York ?"
   ]
  },
  {
   "cell_type": "code",
   "execution_count": 32,
   "metadata": {},
   "outputs": [
    {
     "name": "stdout",
     "output_type": "stream",
     "text": [
      "Carbon impact of desktop PCs purchased by data engineers in Paris and New York: 75670.00 kg CO2\n"
     ]
    }
   ],
   "source": [
    "with engine.connect() as conn:\n",
    "    result = conn.execute(text(\"\"\"\n",
    "        SELECT SUM(e.co2_impact_kg) as total_co2_impact\n",
    "        FROM fact_employee_equipment fee\n",
    "        JOIN dim_equipment e ON fee.equipment_id = e.equipment_id\n",
    "        JOIN dim_date_time dt ON fee.purchase_date_id = dt.date_id\n",
    "        JOIN dim_employee emp ON fee.employee_id = emp.employee_id\n",
    "        JOIN dim_sector s ON emp.sector_id = s.sector_id\n",
    "        WHERE e.equipment_type = 'pc fixe sans ecran'\n",
    "        AND s.sector_name = 'data engineer'\n",
    "        AND emp.current_city IN ('paris', 'new-york')\n",
    "        AND dt.date BETWEEN '2024-05-01' AND '2024-09-30'\n",
    "    \"\"\"))\n",
    "    impact = result.fetchone()[0]\n",
    "    print(f\"Carbon impact of desktop PCs purchased by data engineers in Paris and New York: {impact:.2f} kg CO2\")"
   ]
  },
  {
   "cell_type": "markdown",
   "metadata": {},
   "source": [
    "### Question 7 : Quelle a été l'impact carbone des Ecrans achetés par les cadres entre mai et septembre 2024 sur tous les sites de l'organisation ?"
   ]
  },
  {
   "cell_type": "code",
   "execution_count": 34,
   "metadata": {},
   "outputs": [
    {
     "name": "stdout",
     "output_type": "stream",
     "text": [
      "Carbon impact of monitors purchased by executives between May and September 2024: 27290.00 kg CO2\n"
     ]
    }
   ],
   "source": [
    "with engine.connect() as conn:\n",
    "    result = conn.execute(text(\"\"\"\n",
    "        SELECT SUM(e.co2_impact_kg) as total_co2_impact\n",
    "        FROM fact_employee_equipment fee\n",
    "        JOIN dim_equipment e ON fee.equipment_id = e.equipment_id\n",
    "        JOIN dim_date_time dt ON fee.purchase_date_id = dt.date_id\n",
    "        JOIN dim_employee emp ON fee.employee_id = emp.employee_id\n",
    "        JOIN dim_sector s ON emp.sector_id = s.sector_id\n",
    "        WHERE e.equipment_type = 'ecran'\n",
    "        AND s.sector_name = 'business executive'\n",
    "        AND dt.date BETWEEN '2024-05-01' AND '2024-09-30'\n",
    "    \"\"\"))\n",
    "    impact = result.fetchone()[0]\n",
    "    print(f\"Carbon impact of monitors purchased by executives between May and September 2024: {impact:.2f} kg CO2\")"
   ]
  },
  {
   "cell_type": "markdown",
   "metadata": {},
   "source": [
    "### Question 8 : Quelle a été l'impact carbone des missions sur les sites Européens en juillet 2024 ?"
   ]
  },
  {
   "cell_type": "code",
   "execution_count": 45,
   "metadata": {},
   "outputs": [
    {
     "name": "stdout",
     "output_type": "stream",
     "text": [
      "Carbon impact of missions in European sites during July 2024: 334621.86 kg CO2\n"
     ]
    }
   ],
   "source": [
    "with engine.connect() as conn:\n",
    "    result = conn.execute(text(\"\"\"\n",
    "        SELECT SUM(bt.distance_km * t.emission_factor) as total_co2_impact\n",
    "        FROM fact_business_travel bt\n",
    "        JOIN dim_transport t ON bt.transport_id = t.transport_id\n",
    "        JOIN dim_date_time dt ON bt.date_id = dt.date_id\n",
    "        JOIN dim_location dl ON bt.destination_location_id = dl.location_id\n",
    "        WHERE dt.month = 7 AND dt.year = 2024\n",
    "        AND dl.city IN ('paris', 'berlin', 'london')\n",
    "    \"\"\"))\n",
    "    impact = result.fetchone()[0]\n",
    "    print(f\"Carbon impact of missions in European sites during July 2024: {impact:.2f} kg CO2\")"
   ]
  },
  {
   "cell_type": "markdown",
   "metadata": {},
   "source": [
    "### Question 9 : Quels ont été les 5 jours les plus impactents concernant les missions en avion sur l'ensemble des sites de l'organisation ?"
   ]
  },
  {
   "cell_type": "code",
   "execution_count": 36,
   "metadata": {},
   "outputs": [
    {
     "name": "stdout",
     "output_type": "stream",
     "text": [
      "Top 5 days with highest carbon impact from plane missions:\n",
      "1. 2024-07-11: 532406.66 kg CO2\n",
      "2. 2024-10-01: 501996.02 kg CO2\n",
      "3. 2024-05-24: 495791.93 kg CO2\n",
      "4. 2024-10-19: 494602.56 kg CO2\n",
      "5. 2024-06-15: 485088.45 kg CO2\n"
     ]
    }
   ],
   "source": [
    "with engine.connect() as conn:\n",
    "    result = conn.execute(text(\"\"\"\n",
    "        SELECT dt.date, SUM(bt.distance_km * t.emission_factor) as total_co2_impact\n",
    "        FROM fact_business_travel bt\n",
    "        JOIN dim_transport t ON bt.transport_id = t.transport_id\n",
    "        JOIN dim_date_time dt ON bt.date_id = dt.date_id\n",
    "        WHERE t.transport_name = 'plane'\n",
    "        GROUP BY dt.date\n",
    "        ORDER BY total_co2_impact DESC\n",
    "        LIMIT 5\n",
    "    \"\"\"))\n",
    "    print(\"Top 5 days with highest carbon impact from plane missions:\")\n",
    "    for i, row in enumerate(result, 1):\n",
    "        print(f\"{i}. {row[0]}: {row[1]:.2f} kg CO2\")"
   ]
  },
  {
   "cell_type": "markdown",
   "metadata": {},
   "source": [
    "### Question 10 : Quel a été le secteur d'activité qui a eu le plus d'impact concernant les missions et le matériel informatique sur l'ensemble des sites de l'organisation ?"
   ]
  },
  {
   "cell_type": "code",
   "execution_count": 37,
   "metadata": {},
   "outputs": [
    {
     "name": "stdout",
     "output_type": "stream",
     "text": [
      "Sector with highest carbon impact: data engineer with 25917609.18 kg CO2\n"
     ]
    }
   ],
   "source": [
    "with engine.connect() as conn:\n",
    "    result = conn.execute(text(\"\"\"\n",
    "        WITH mission_impact AS (\n",
    "            SELECT s.sector_name,\n",
    "                   SUM(bt.distance_km * t.emission_factor) as mission_co2_impact\n",
    "            FROM fact_business_travel bt\n",
    "            JOIN dim_employee e ON bt.employee_id = e.employee_id\n",
    "            JOIN dim_sector s ON e.sector_id = s.sector_id\n",
    "            JOIN dim_transport t ON bt.transport_id = t.transport_id\n",
    "            GROUP BY s.sector_name\n",
    "        ),\n",
    "        equipment_impact AS (\n",
    "            SELECT s.sector_name,\n",
    "                   SUM(eq.co2_impact_kg) as equipment_co2_impact\n",
    "            FROM fact_employee_equipment fee\n",
    "            JOIN dim_employee e ON fee.employee_id = e.employee_id\n",
    "            JOIN dim_sector s ON e.sector_id = s.sector_id\n",
    "            JOIN dim_equipment eq ON fee.equipment_id = eq.equipment_id\n",
    "            GROUP BY s.sector_name\n",
    "        )\n",
    "        SELECT m.sector_name,\n",
    "               (COALESCE(m.mission_co2_impact, 0) + COALESCE(e.equipment_co2_impact, 0)) as total_co2_impact\n",
    "        FROM mission_impact m\n",
    "        FULL OUTER JOIN equipment_impact e ON m.sector_name = e.sector_name\n",
    "        ORDER BY total_co2_impact DESC\n",
    "        LIMIT 1\n",
    "    \"\"\"))\n",
    "    sector, impact = result.fetchone()\n",
    "    print(f\"Sector with highest carbon impact: {sector} with {impact:.2f} kg CO2\")"
   ]
  },
  {
   "cell_type": "markdown",
   "metadata": {},
   "source": [
    "### Question 11 : Quel site a eu le plus d'impact concernant les missions et le matériel informatique sur l'ensemble des sites de l'organisation ?"
   ]
  },
  {
   "cell_type": "code",
   "execution_count": 38,
   "metadata": {},
   "outputs": [
    {
     "name": "stdout",
     "output_type": "stream",
     "text": [
      "Site with highest carbon impact: los angeles with 14429660.00 kg CO2\n"
     ]
    }
   ],
   "source": [
    "with engine.connect() as conn:\n",
    "    result = conn.execute(text(\"\"\"\n",
    "        WITH mission_impact AS (\n",
    "            SELECT e.current_city,\n",
    "                   SUM(bt.distance_km * t.emission_factor) as mission_co2_impact\n",
    "            FROM fact_business_travel bt\n",
    "            JOIN dim_employee e ON bt.employee_id = e.employee_id\n",
    "            JOIN dim_transport t ON bt.transport_id = t.transport_id\n",
    "            GROUP BY e.current_city\n",
    "        ),\n",
    "        equipment_impact AS (\n",
    "            SELECT e.current_city,\n",
    "                   SUM(eq.co2_impact_kg) as equipment_co2_impact\n",
    "            FROM fact_employee_equipment fee\n",
    "            JOIN dim_employee e ON fee.employee_id = e.employee_id\n",
    "            JOIN dim_equipment eq ON fee.equipment_id = eq.equipment_id\n",
    "            GROUP BY e.current_city\n",
    "        )\n",
    "        SELECT m.current_city,\n",
    "               (COALESCE(m.mission_co2_impact, 0) + COALESCE(e.equipment_co2_impact, 0)) as total_co2_impact\n",
    "        FROM mission_impact m\n",
    "        FULL OUTER JOIN equipment_impact e ON m.current_city = e.current_city\n",
    "        ORDER BY total_co2_impact DESC\n",
    "        LIMIT 1\n",
    "    \"\"\"))\n",
    "    city, impact = result.fetchone()\n",
    "    print(f\"Site with highest carbon impact: {city} with {impact:.2f} kg CO2\")"
   ]
  },
  {
   "cell_type": "markdown",
   "metadata": {},
   "source": [
    "### Question 12 : Quel a été l'impact carbone des missions reliant chaque site (la ville de départ est un site de l'organisation et la ville d'arrivée également) durant le mois de mai 2024 ?"
   ]
  },
  {
   "cell_type": "code",
   "execution_count": 39,
   "metadata": {},
   "outputs": [
    {
     "name": "stdout",
     "output_type": "stream",
     "text": [
      "L'impact carbone total des missions entre sites en mai 2024 est de 1269321.30 kg CO2\n"
     ]
    }
   ],
   "source": [
    "with engine.connect() as conn:\n",
    "    result = conn.execute(text(\"\"\"\n",
    "        SELECT \n",
    "            SUM(bt.distance_km * t.emission_factor) as total_co2_impact\n",
    "        FROM fact_business_travel bt\n",
    "        JOIN dim_transport t ON bt.transport_id = t.transport_id\n",
    "        JOIN dim_date_time dt ON bt.date_id = dt.date_id\n",
    "        JOIN dim_location dl_dep ON bt.departure_location_id = dl_dep.location_id\n",
    "        JOIN dim_location dl_dest ON bt.destination_location_id = dl_dest.location_id\n",
    "        WHERE dt.year = 2024 \n",
    "        AND dt.month = 5\n",
    "        AND dl_dep.city IN ('berlin', 'paris', 'new-york', 'los angeles', 'shanghai', 'london')\n",
    "        AND dl_dest.city IN ('berlin', 'paris', 'new-york', 'los angeles', 'shanghai', 'london')\n",
    "    \"\"\"))\n",
    "    total_impact = result.scalar()\n",
    "    \n",
    "    if total_impact is None:\n",
    "        print(\"Aucune mission entre sites n'a été enregistrée en mai 2024.\")\n",
    "    else:\n",
    "        print(f\"L'impact carbone total des missions entre sites en mai 2024 est de {total_impact:.2f} kg CO2\")"
   ]
  },
  {
   "cell_type": "markdown",
   "metadata": {},
   "source": [
    "### Question 13 : Quel a été l'impact carbone des séminaires en juillet 2024 pour les employés de Los Angeles ?"
   ]
  },
  {
   "cell_type": "code",
   "execution_count": 40,
   "metadata": {},
   "outputs": [
    {
     "name": "stdout",
     "output_type": "stream",
     "text": [
      "Carbon impact of seminars for Los Angeles employees in July 2024: 421958.71 kg CO2\n"
     ]
    }
   ],
   "source": [
    "with engine.connect() as conn:\n",
    "    result = conn.execute(text(\"\"\"\n",
    "        SELECT SUM(bt.distance_km * t.emission_factor) as total_co2_impact\n",
    "        FROM fact_business_travel bt\n",
    "        JOIN dim_employee e ON bt.employee_id = e.employee_id\n",
    "        JOIN dim_transport t ON bt.transport_id = t.transport_id\n",
    "        JOIN dim_date_time dt ON bt.date_id = dt.date_id\n",
    "        JOIN dim_mission_type mt ON bt.mission_type_id = mt.mission_type_id\n",
    "        WHERE e.current_city = 'los angeles'\n",
    "        AND dt.month = 7 AND dt.year = 2024\n",
    "        AND mt.mission_type_name = 'conference'\n",
    "    \"\"\"))\n",
    "    impact = result.fetchone()[0]\n",
    "    print(f\"Carbon impact of seminars for Los Angeles employees in July 2024: {impact:.2f} kg CO2\")"
   ]
  },
  {
   "cell_type": "markdown",
   "metadata": {},
   "source": [
    "### Question 14 : Quel a secteur d'activité a été le plus impactant pour les missions \"conférences\" entre mai et octobre 2024 ?"
   ]
  },
  {
   "cell_type": "code",
   "execution_count": 41,
   "metadata": {},
   "outputs": [
    {
     "name": "stdout",
     "output_type": "stream",
     "text": [
      "Sector with highest carbon impact from conferences: data engineer with 4427602.98 kg CO2\n"
     ]
    }
   ],
   "source": [
    "with engine.connect() as conn:\n",
    "    result = conn.execute(text(\"\"\"\n",
    "        SELECT \n",
    "            s.sector_name,\n",
    "            SUM(bt.distance_km * t.emission_factor) as total_co2_impact\n",
    "        FROM fact_business_travel bt\n",
    "        JOIN dim_employee e ON bt.employee_id = e.employee_id\n",
    "        JOIN dim_sector s ON e.sector_id = s.sector_id\n",
    "        JOIN dim_transport t ON bt.transport_id = t.transport_id\n",
    "        JOIN dim_date_time dt ON bt.date_id = dt.date_id\n",
    "        JOIN dim_mission_type mt ON bt.mission_type_id = mt.mission_type_id\n",
    "        WHERE mt.mission_type_name = 'conference'\n",
    "        AND dt.date BETWEEN '2024-05-01' AND '2024-10-31'\n",
    "        GROUP BY s.sector_name\n",
    "        ORDER BY total_co2_impact DESC\n",
    "        LIMIT 1\n",
    "    \"\"\"))\n",
    "    sector, impact = result.fetchone()\n",
    "    print(f\"Sector with highest carbon impact from conferences: {sector} with {impact:.2f} kg CO2\")"
   ]
  },
  {
   "cell_type": "markdown",
   "metadata": {},
   "source": [
    "### Question 15 : Quel a été l'âge moyen des employés qui sont partis en formations entre juillet et septembre 2024 ?"
   ]
  },
  {
   "cell_type": "code",
   "execution_count": 42,
   "metadata": {},
   "outputs": [
    {
     "name": "stdout",
     "output_type": "stream",
     "text": [
      "Average age of employees who went on training missions: 50.0 years\n"
     ]
    }
   ],
   "source": [
    "with engine.connect() as conn:\n",
    "    result = conn.execute(text(\"\"\"\n",
    "        WITH employee_ages AS (\n",
    "            SELECT DISTINCT e.employee_id,\n",
    "                   DATE_PART('year', AGE(CAST('2024-09-30' AS DATE), e.birth_date)) as age\n",
    "            FROM fact_business_travel bt\n",
    "            JOIN dim_employee e ON bt.employee_id = e.employee_id\n",
    "            JOIN dim_date_time dt ON bt.date_id = dt.date_id\n",
    "            JOIN dim_mission_type mt ON bt.mission_type_id = mt.mission_type_id\n",
    "            WHERE mt.mission_type_name = 'training'\n",
    "            AND dt.date BETWEEN '2024-07-01' AND '2024-09-30'\n",
    "        )\n",
    "        SELECT AVG(age) as average_age\n",
    "        FROM employee_ages\n",
    "    \"\"\"))\n",
    "    avg_age = result.fetchone()[0]\n",
    "    print(f\"Average age of employees who went on training missions: {avg_age:.1f} years\")"
   ]
  },
  {
   "cell_type": "markdown",
   "metadata": {},
   "source": [
    "### Question 16 : Quelle destination a été la plus impactante (en cumul) entre mai et octobre 2024 ?"
   ]
  },
  {
   "cell_type": "code",
   "execution_count": 43,
   "metadata": {},
   "outputs": [
    {
     "name": "stdout",
     "output_type": "stream",
     "text": [
      "Most impactful destination: melbourne, australia with 4156005.81 kg CO2\n"
     ]
    }
   ],
   "source": [
    "with engine.connect() as conn:\n",
    "    result = conn.execute(text(\"\"\"\n",
    "        SELECT \n",
    "            dl.city as destination_city,\n",
    "            dl.country as destination_country,\n",
    "            SUM(bt.distance_km * t.emission_factor) as total_co2_impact\n",
    "        FROM fact_business_travel bt\n",
    "        JOIN dim_location dl ON bt.destination_location_id = dl.location_id\n",
    "        JOIN dim_transport t ON bt.transport_id = t.transport_id\n",
    "        JOIN dim_date_time dt ON bt.date_id = dt.date_id\n",
    "        WHERE dt.date BETWEEN '2024-05-01' AND '2024-10-31'\n",
    "        GROUP BY dl.city, dl.country\n",
    "        ORDER BY total_co2_impact DESC\n",
    "        LIMIT 1\n",
    "    \"\"\"))\n",
    "    city, country, impact = result.fetchone()\n",
    "    print(f\"Most impactful destination: {city}, {country} with {impact:.2f} kg CO2\")"
   ]
  },
  {
   "cell_type": "markdown",
   "metadata": {},
   "source": [
    "### Question 17 : Quelles ont été les trois catégories de missions les plus impactantes pour les cadres dans les sites Européens en juin 2024 ?"
   ]
  },
  {
   "cell_type": "code",
   "execution_count": 46,
   "metadata": {},
   "outputs": [
    {
     "name": "stdout",
     "output_type": "stream",
     "text": [
      "Top 3 most impactful mission types for executives in European sites:\n",
      "1. conference: 25132.61 kg CO2\n",
      "2. development: 18278.05 kg CO2\n",
      "3. business meeting: 15327.25 kg CO2\n"
     ]
    }
   ],
   "source": [
    "with engine.connect() as conn:\n",
    "    result = conn.execute(text(\"\"\"\n",
    "        SELECT \n",
    "            mt.mission_type_name,\n",
    "            SUM(bt.distance_km * t.emission_factor) as total_co2_impact\n",
    "        FROM fact_business_travel bt\n",
    "        JOIN dim_employee e ON bt.employee_id = e.employee_id\n",
    "        JOIN dim_sector s ON e.sector_id = s.sector_id\n",
    "        JOIN dim_transport t ON bt.transport_id = t.transport_id\n",
    "        JOIN dim_date_time dt ON bt.date_id = dt.date_id\n",
    "        JOIN dim_mission_type mt ON bt.mission_type_id = mt.mission_type_id\n",
    "        JOIN dim_location dl ON bt.destination_location_id = dl.location_id\n",
    "        WHERE s.sector_name = 'business executive'\n",
    "        AND dl.city IN ('paris', 'berlin', 'london')\n",
    "        AND dt.month = 6 AND dt.year = 2024\n",
    "        GROUP BY mt.mission_type_name\n",
    "        ORDER BY total_co2_impact DESC\n",
    "        LIMIT 3\n",
    "    \"\"\"))\n",
    "    print(\"Top 3 most impactful mission types for executives in European sites:\")\n",
    "    for i, row in enumerate(result, 1):\n",
    "        print(f\"{i}. {row[0]}: {row[1]:.2f} kg CO2\")"
   ]
  },
  {
   "cell_type": "markdown",
   "metadata": {},
   "source": [
    "## 2. Questions à répondre avec des illustrations"
   ]
  },
  {
   "cell_type": "markdown",
   "metadata": {},
   "source": [
    "### Question 18 : Quelles ont été les 5 missions les plus impactentes sur le site de Paris ?"
   ]
  },
  {
   "cell_type": "code",
   "execution_count": 47,
   "metadata": {},
   "outputs": [],
   "source": [
    "with engine.connect() as conn:\n",
    "    result = conn.execute(text(\"\"\"\n",
    "        WITH mission_impact AS (\n",
    "            SELECT \n",
    "                fbt.travel_id,\n",
    "                fbt.distance_km,\n",
    "                dt.emission_factor,\n",
    "                fbt.distance_km * dt.emission_factor as total_impact,\n",
    "                dl_depart.city as departure_city,\n",
    "                dl_dest.city as destination_city,\n",
    "                dt.transport_name\n",
    "            FROM fact_business_travel fbt\n",
    "            JOIN dim_transport dt ON fbt.transport_id = dt.transport_id\n",
    "            JOIN dim_location dl_depart ON fbt.departure_location_id = dl_depart.location_id\n",
    "            JOIN dim_location dl_dest ON fbt.destination_location_id = dl_dest.location_id\n",
    "            WHERE fbt.travel_id LIKE 'Paris_%'\n",
    "        )\n",
    "        SELECT \n",
    "            travel_id,\n",
    "            departure_city,\n",
    "            destination_city,\n",
    "            transport_name,\n",
    "            distance_km,\n",
    "            emission_factor,\n",
    "            ROUND(total_impact::numeric, 2) as total_impact_kg_co2\n",
    "        FROM mission_impact\n",
    "        ORDER BY total_impact DESC\n",
    "        LIMIT 5\n",
    "    \"\"\"))\n",
    "    df = pd.DataFrame(result.fetchall(), columns=['Travel ID', 'Departure', 'Destination', 'Transport', 'Distance (km)', 'Emission Factor', 'Total Impact (kg CO2)'])\n",
    "    \n",
    "    # Create a bar plot\n",
    "    plt.figure(figsize=(12, 6))\n",
    "    sns.barplot(data=df, x='Travel ID', y='Total Impact (kg CO2)', hue='Transport')\n",
    "    plt.title('Top 5 Most Impactful Missions from Paris Site')\n",
    "    plt.xticks(rotation=45)\n",
    "    plt.tight_layout()\n",
    "    plt.savefig('question18.pdf')\n",
    "    plt.close()"
   ]
  },
  {
   "cell_type": "markdown",
   "metadata": {},
   "source": [
    "### Question 19 : Proposer une figure comparant l'impact carbone mensuel des missions en fonction du type de transport et sur chaque site."
   ]
  },
  {
   "cell_type": "code",
   "execution_count": 48,
   "metadata": {},
   "outputs": [
    {
     "data": {
      "text/plain": [
       "<Figure size 1500x800 with 0 Axes>"
      ]
     },
     "metadata": {},
     "output_type": "display_data"
    }
   ],
   "source": [
    "with engine.connect() as conn:\n",
    "    result = conn.execute(text(\"\"\"\n",
    "        SELECT \n",
    "            dl_dep.city as departure_city,\n",
    "            t.transport_name,\n",
    "            dt.month,\n",
    "            SUM(bt.distance_km * t.emission_factor) as total_co2_impact\n",
    "        FROM fact_business_travel bt\n",
    "        JOIN dim_transport t ON bt.transport_id = t.transport_id\n",
    "        JOIN dim_date_time dt ON bt.date_id = dt.date_id\n",
    "        JOIN dim_location dl_dep ON bt.departure_location_id = dl_dep.location_id\n",
    "        WHERE dt.year = 2024\n",
    "        GROUP BY dl_dep.city, t.transport_name, dt.month\n",
    "        ORDER BY dl_dep.city, dt.month\n",
    "    \"\"\"))\n",
    "    df = pd.DataFrame(result.fetchall(), columns=['City', 'Transport', 'Month', 'CO2 Impact'])\n",
    "    \n",
    "    plt.figure(figsize=(15, 8))\n",
    "    g = sns.FacetGrid(df, col='City', col_wrap=3, height=4)\n",
    "    g.map_dataframe(sns.lineplot, x='Month', y='CO2 Impact', hue='Transport')\n",
    "    g.add_legend()\n",
    "    plt.suptitle('Monthly Carbon Impact by Transport Type and City', y=1.02)\n",
    "    plt.tight_layout()\n",
    "    plt.savefig('question19.pdf')\n",
    "    plt.close()"
   ]
  },
  {
   "cell_type": "markdown",
   "metadata": {},
   "source": [
    "### Question 20 : Proposer une figure illustrant l'impact carbone global mensuel de l'organisation."
   ]
  },
  {
   "cell_type": "code",
   "execution_count": 49,
   "metadata": {},
   "outputs": [],
   "source": [
    "with engine.connect() as conn:\n",
    "    # Get mission impact\n",
    "    result = conn.execute(text(\"\"\"\n",
    "        SELECT \n",
    "            dt.month,\n",
    "            SUM(bt.distance_km * t.emission_factor) as mission_co2_impact\n",
    "        FROM fact_business_travel bt\n",
    "        JOIN dim_transport t ON bt.transport_id = t.transport_id\n",
    "        JOIN dim_date_time dt ON bt.date_id = dt.date_id\n",
    "        WHERE dt.year = 2024\n",
    "        GROUP BY dt.month\n",
    "        ORDER BY dt.month\n",
    "    \"\"\"))\n",
    "    df_missions = pd.DataFrame(result.fetchall(), columns=['Month', 'Mission Impact'])\n",
    "    \n",
    "    # Get equipment impact\n",
    "    result = conn.execute(text(\"\"\"\n",
    "        SELECT \n",
    "            dt.month,\n",
    "            SUM(e.co2_impact_kg) as equipment_co2_impact\n",
    "        FROM fact_employee_equipment fee\n",
    "        JOIN dim_equipment e ON fee.equipment_id = e.equipment_id\n",
    "        JOIN dim_date_time dt ON fee.purchase_date_id = dt.date_id\n",
    "        WHERE dt.year = 2024\n",
    "        GROUP BY dt.month\n",
    "        ORDER BY dt.month\n",
    "    \"\"\"))\n",
    "    df_equipment = pd.DataFrame(result.fetchall(), columns=['Month', 'Equipment Impact'])\n",
    "    \n",
    "    # Combine the data\n",
    "    df = pd.merge(df_missions, df_equipment, on='Month', how='outer').fillna(0)\n",
    "    df['Total Impact'] = df['Mission Impact'] + df['Equipment Impact']\n",
    "    \n",
    "    # Create the plot\n",
    "    plt.figure(figsize=(12, 6))\n",
    "    plt.plot(df['Month'], df['Mission Impact'], label='Missions', marker='o')\n",
    "    plt.plot(df['Month'], df['Equipment Impact'], label='Equipment', marker='o')\n",
    "    plt.plot(df['Month'], df['Total Impact'], label='Total', marker='o', linewidth=2)\n",
    "    plt.title('Monthly Global Carbon Impact of the Organization')\n",
    "    plt.xlabel('Month')\n",
    "    plt.ylabel('CO2 Impact (kg)')\n",
    "    plt.legend()\n",
    "    plt.grid(True)\n",
    "    plt.tight_layout()\n",
    "    plt.savefig('question20.pdf')\n",
    "    plt.close()"
   ]
  }
 ],
 "metadata": {
  "kernelspec": {
   "display_name": "venv",
   "language": "python",
   "name": "python3"
  },
  "language_info": {
   "codemirror_mode": {
    "name": "ipython",
    "version": 3
   },
   "file_extension": ".py",
   "mimetype": "text/x-python",
   "name": "python",
   "nbconvert_exporter": "python",
   "pygments_lexer": "ipython3",
   "version": "3.12.2"
  }
 },
 "nbformat": 4,
 "nbformat_minor": 2
}
