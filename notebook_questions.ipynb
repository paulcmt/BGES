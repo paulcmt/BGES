{
 "cells": [
  {
   "cell_type": "markdown",
   "metadata": {},
   "source": [
    "# BGES Project : Questions\n",
    "\n"
   ]
  },
  {
   "cell_type": "code",
   "execution_count": 1,
   "metadata": {},
   "outputs": [],
   "source": [
    "import os\n",
    "os.environ[\"PYARROW_IGNORE_TIMEZONE\"] = \"1\""
   ]
  },
  {
   "cell_type": "code",
   "execution_count": 8,
   "metadata": {},
   "outputs": [],
   "source": [
    "import pandas as pd\n",
    "import numpy as np\n",
    "from datetime import datetime, date\n",
    "\n",
    "import pyspark.pandas as ps\n",
    "from pyspark.sql import SparkSession\n",
    "from pyspark.sql import Row\n",
    "\n",
    "from sqlalchemy import create_engine\n",
    "from sqlalchemy import text"
   ]
  },
  {
   "cell_type": "code",
   "execution_count": 9,
   "metadata": {},
   "outputs": [],
   "source": [
    "spark = SparkSession.builder \\\n",
    "    .config(\"spark.driver.extraJavaOptions\", \"-Djava.security.manager=allow\") \\\n",
    "    .config(\"spark.executor.extraJavaOptions\", \"-Djava.security.manager=allow\") \\\n",
    "    .getOrCreate()\n",
    "\n",
    "spark.conf.set(\"spark.sql.session.timeZone\", \"UTC\")"
   ]
  },
  {
   "cell_type": "markdown",
   "metadata": {},
   "source": [
    "## Vérification de l'ETL"
   ]
  },
  {
   "cell_type": "code",
   "execution_count": 20,
   "metadata": {},
   "outputs": [
    {
     "name": "stdout",
     "output_type": "stream",
     "text": [
      "✓ Successfully connected to the database\n"
     ]
    }
   ],
   "source": [
    "# Database connection parameters\n",
    "DB_USER = 'postgres'\n",
    "DB_PASSWORD = 'postgres'\n",
    "DB_HOST = 'localhost'\n",
    "DB_PORT = '5432'\n",
    "DB_NAME = 'postgres'\n",
    "\n",
    "# Create SQLAlchemy engine\n",
    "engine = create_engine(f'postgresql://{DB_USER}:{DB_PASSWORD}@{DB_HOST}:{DB_PORT}/{DB_NAME}')\n",
    "\n",
    "# Test the connection\n",
    "try:\n",
    "    with engine.connect() as conn:\n",
    "        result = conn.execute(text(\"SELECT 1\"))\n",
    "        print(\"✓ Successfully connected to the database\")\n",
    "except Exception as e:\n",
    "    print(f\"Error connecting to database: {e}\")"
   ]
  },
  {
   "cell_type": "code",
   "execution_count": 22,
   "metadata": {},
   "outputs": [
    {
     "name": "stdout",
     "output_type": "stream",
     "text": [
      "\n",
      "Tables in the database:\n",
      "- dim_transport\n",
      "- dim_location\n",
      "- fact_employee_equipment\n",
      "- fact_business_travel\n",
      "- dim_employee\n",
      "- dim_sector\n",
      "- dim_equipment\n",
      "- dim_time\n",
      "- dim_mission_type\n"
     ]
    }
   ],
   "source": [
    "# Example: List all tables\n",
    "with engine.connect() as conn:\n",
    "    tables = conn.execute(text(\"\"\"\n",
    "        SELECT table_name \n",
    "        FROM information_schema.tables \n",
    "        WHERE table_schema = 'public'\n",
    "    \"\"\"))\n",
    "    print(\"\\nTables in the database:\")\n",
    "    for table in tables:\n",
    "        print(f\"- {table[0]}\")"
   ]
  },
  {
   "cell_type": "code",
   "execution_count": 23,
   "metadata": {},
   "outputs": [
    {
     "name": "stdout",
     "output_type": "stream",
     "text": [
      "\n",
      "Rows from dim_transport:\n",
      "   transport_id        transport_name emission_factor\n",
      "0             1                 Avion          0.0000\n",
      "1             2  Transports en commun          0.0000\n",
      "2             3                 Train          0.0000\n",
      "3             4                  Taxi          0.0000\n"
     ]
    }
   ],
   "source": [
    "with engine.connect() as conn:\n",
    "    result = conn.execute(text(\"SELECT * FROM dim_transport\"))\n",
    "    df = pd.DataFrame(result.fetchall(), columns=result.keys())\n",
    "    print(\"\\nRows from dim_transport:\")\n",
    "    print(df)"
   ]
  },
  {
   "cell_type": "code",
   "execution_count": 24,
   "metadata": {},
   "outputs": [
    {
     "name": "stdout",
     "output_type": "stream",
     "text": [
      "\n",
      "Rows from dim_sector:\n",
      "   sector_id         sector_name\n",
      "0          1       Data Engineer\n",
      "1          2  Business Executive\n",
      "2          3           Economist\n",
      "3          4                 HRD\n",
      "4          5   Computer Engineer\n"
     ]
    }
   ],
   "source": [
    "with engine.connect() as conn:\n",
    "    result = conn.execute(text(\"SELECT * FROM dim_sector\"))\n",
    "    df = pd.DataFrame(result.fetchall(), columns=result.keys())\n",
    "    print(\"\\nRows from dim_sector:\")\n",
    "    print(df)"
   ]
  },
  {
   "cell_type": "code",
   "execution_count": 25,
   "metadata": {},
   "outputs": [
    {
     "name": "stdout",
     "output_type": "stream",
     "text": [
      "\n",
      "Rows from dim_location:\n",
      "    location_id            city      country\n",
      "0             1          Berlin    Allemagne\n",
      "1             2     Los Angeles          USA\n",
      "2             3           Paris       France\n",
      "3             4        New-York          USA\n",
      "4             5        Shanghai        China\n",
      "5             6          London      England\n",
      "6             7       Sao Paulo       Brazil\n",
      "7             8          Sidney    Australia\n",
      "8             9           Rabat        Maroc\n",
      "9            10      Washington          USA\n",
      "10           11        Montreal       Canada\n",
      "11           12           Dubaï      Emirats\n",
      "12           13           Osaka        Japan\n",
      "13           14            Oslo      Norvège\n",
      "14           15           Pekin        China\n",
      "15           16           Alger      Algeria\n",
      "16           17          Bogota     Colombia\n",
      "17           18       Vancouver       Canada\n",
      "18           19            Lima         Peru\n",
      "19           20        Helsinki     Finlande\n",
      "20           21       Melbourne    Australia\n",
      "21           22        Auckland  New Zealand\n",
      "22           23        Bordeaux       France\n",
      "23           24          Mexico       Mexico\n",
      "24           25      Wellington  New Zealand\n",
      "25           26           Tokyo        Japan\n",
      "26           27       Compiègne       France\n",
      "27           28           Lille       France\n",
      "28           29       Stockholm        Suède\n",
      "29           30  Rio de Janeiro       Brazil\n",
      "30           31           Tunis      Tunisie\n",
      "31           32    Buenos Aires    Argentina\n",
      "32           33       Marseille       France\n",
      "33           34          Berlin      Germany\n"
     ]
    }
   ],
   "source": [
    "with engine.connect() as conn:\n",
    "    result = conn.execute(text(\"SELECT * FROM dim_location\"))\n",
    "    df = pd.DataFrame(result.fetchall(), columns=result.keys())\n",
    "    print(\"\\nRows from dim_location:\")\n",
    "    print(df)"
   ]
  },
  {
   "cell_type": "code",
   "execution_count": 26,
   "metadata": {},
   "outputs": [
    {
     "name": "stdout",
     "output_type": "stream",
     "text": [
      "\n",
      "Rows from dim_time:\n",
      "        date_id  day  month  year\n",
      "0    2024-10-16   16     10  2024\n",
      "1    2024-10-02    2     10  2024\n",
      "2    2024-05-26   26      5  2024\n",
      "3    2024-07-24   24      7  2024\n",
      "4    2024-07-30   30      7  2024\n",
      "..          ...  ...    ...   ...\n",
      "195  2024-07-01    1      7  2024\n",
      "196  2024-07-29   29      7  2024\n",
      "197  2024-05-17   17      5  2024\n",
      "198  2024-05-03    3      5  2024\n",
      "199  2024-10-27   27     10  2024\n",
      "\n",
      "[200 rows x 4 columns]\n"
     ]
    }
   ],
   "source": [
    "with engine.connect() as conn:\n",
    "    result = conn.execute(text(\"SELECT * FROM dim_time\"))\n",
    "    df = pd.DataFrame(result.fetchall(), columns=result.keys())\n",
    "    print(\"\\nRows from dim_time:\")\n",
    "    print(df)"
   ]
  },
  {
   "cell_type": "code",
   "execution_count": 27,
   "metadata": {},
   "outputs": [
    {
     "name": "stdout",
     "output_type": "stream",
     "text": [
      "\n",
      "Rows from dim_mission_type:\n",
      "   mission_type_id mission_type_name\n",
      "0                1        conference\n",
      "1                2       development\n",
      "2                3  business meeting\n",
      "3                4          training\n",
      "4                5           meeting\n"
     ]
    }
   ],
   "source": [
    "with engine.connect() as conn:\n",
    "    result = conn.execute(text(\"SELECT * FROM dim_mission_type\"))\n",
    "    df = pd.DataFrame(result.fetchall(), columns=result.keys())\n",
    "    print(\"\\nRows from dim_mission_type:\")\n",
    "    print(df)"
   ]
  },
  {
   "cell_type": "code",
   "execution_count": 30,
   "metadata": {},
   "outputs": [
    {
     "name": "stdout",
     "output_type": "stream",
     "text": [
      "\n",
      "Rows from dim_employee:\n",
      "                    employee_id last_name   first_name  birth_date  \\\n",
      "0        KeyPers_Berlin_1230000     Name0    FistName0  1993-11-04   \n",
      "1        KeyPers_Berlin_1230001     Name1    FistName1  1932-11-22   \n",
      "2        KeyPers_Berlin_1230002     Name2    FistName2  1990-08-12   \n",
      "3        KeyPers_Berlin_1230003     Name3    FistName3  1965-05-26   \n",
      "4        KeyPers_Berlin_1230004     Name4    FistName4  1959-01-18   \n",
      "...                         ...       ...          ...         ...   \n",
      "20567  KeyPers_Shanghai_1230995   Name995  FistName995  2011-01-13   \n",
      "20568  KeyPers_Shanghai_1230996   Name996  FistName996  1939-11-10   \n",
      "20569  KeyPers_Shanghai_1230997   Name997  FistName997  2003-05-11   \n",
      "20570  KeyPers_Shanghai_1230998   Name998  FistName998  1934-11-22   \n",
      "20571  KeyPers_Shanghai_1230999   Name999  FistName999  1992-09-21   \n",
      "\n",
      "       birth_location_id social_security_number phone_country_code  \\\n",
      "0                     13            NS000000000                NaN   \n",
      "1                     25            NS000000001                NaN   \n",
      "2                      8            NS000000002                NaN   \n",
      "3                      9            NS000000003                NaN   \n",
      "4                      5            NS000000004                NaN   \n",
      "...                  ...                    ...                ...   \n",
      "20567                  9            NS000000995                NaN   \n",
      "20568                 13            NS000000996                NaN   \n",
      "20569                 18            NS000000997                NaN   \n",
      "20570                 25            NS000000998                NaN   \n",
      "20571                  2            NS000000999                NaN   \n",
      "\n",
      "        phone_number address_street_number address_street_name  \\\n",
      "0      +336##0263188                    57          NomVoie940   \n",
      "1      +336##0401873                    64          NomVoie711   \n",
      "2      +336##0524126                    94          NomVoie322   \n",
      "3      +336##0418484                    78          NomVoie593   \n",
      "4      +336##0986317                    65          NomVoie404   \n",
      "...              ...                   ...                 ...   \n",
      "20567  +336##0105694                    46        NomVoie59995   \n",
      "20568  +336##0016997                    92        NomVoie68996   \n",
      "20569  +336##0719029                    53        NomVoie77997   \n",
      "20570  +336##0700036                    62        NomVoie99998   \n",
      "20571  +336##0245810                     3         NomVoie2999   \n",
      "\n",
      "      address_complement postal_code  current_location_id  sector_id  \\\n",
      "0                    NaN       #8830                   34          1   \n",
      "1                    NaN       #9785                   34          2   \n",
      "2                    NaN       #4816                   34          1   \n",
      "3                    NaN       #3546                   34          3   \n",
      "4                    NaN       #6788                   34          1   \n",
      "...                  ...         ...                  ...        ...   \n",
      "20567                NaN       #0393                    5          5   \n",
      "20568                NaN       #9697                    5          5   \n",
      "20569                NaN       #6885                    5          1   \n",
      "20570                NaN       #6768                    5          1   \n",
      "20571                NaN       #8414                    5          1   \n",
      "\n",
      "            creation_date    last_update_date  \n",
      "0     2010-09-09 11:22:17 2010-09-09 11:22:17  \n",
      "1     2017-07-24 16:51:18 2017-07-24 16:51:18  \n",
      "2     1997-08-20 04:01:46 1997-08-20 04:01:46  \n",
      "3     1998-11-17 19:25:01 1998-11-17 19:25:01  \n",
      "4     2010-11-10 04:24:37 2010-11-10 04:24:37  \n",
      "...                   ...                 ...  \n",
      "20567 1998-01-08 12:59:54 1998-01-08 12:59:54  \n",
      "20568 2002-05-22 18:52:19 2002-05-22 18:52:19  \n",
      "20569 2000-02-21 21:58:09 2000-02-21 21:58:09  \n",
      "20570 2016-10-23 11:35:08 2016-10-23 11:35:08  \n",
      "20571 2002-10-09 11:18:45 2002-10-09 11:18:45  \n",
      "\n",
      "[20572 rows x 16 columns]\n"
     ]
    }
   ],
   "source": [
    "with engine.connect() as conn:\n",
    "    result = conn.execute(text(\"SELECT * FROM dim_employee\"))\n",
    "    df = pd.DataFrame(result.fetchall(), columns=result.keys())\n",
    "    print(\"\\nRows from dim_employee:\")\n",
    "    print(df)"
   ]
  }
 ],
 "metadata": {
  "kernelspec": {
   "display_name": "venv",
   "language": "python",
   "name": "python3"
  },
  "language_info": {
   "codemirror_mode": {
    "name": "ipython",
    "version": 3
   },
   "file_extension": ".py",
   "mimetype": "text/x-python",
   "name": "python",
   "nbconvert_exporter": "python",
   "pygments_lexer": "ipython3",
   "version": "3.12.2"
  }
 },
 "nbformat": 4,
 "nbformat_minor": 1
}
