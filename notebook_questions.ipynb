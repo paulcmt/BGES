{
 "cells": [
  {
   "cell_type": "markdown",
   "metadata": {},
   "source": [
    "# BGES Project : Questions\n",
    "\n"
   ]
  },
  {
   "cell_type": "code",
   "execution_count": 79,
   "metadata": {},
   "outputs": [],
   "source": [
    "import os\n",
    "os.environ[\"PYARROW_IGNORE_TIMEZONE\"] = \"1\""
   ]
  },
  {
   "cell_type": "code",
   "execution_count": 80,
   "metadata": {},
   "outputs": [],
   "source": [
    "import pandas as pd\n",
    "import numpy as np\n",
    "from datetime import datetime, date\n",
    "\n",
    "import pyspark.pandas as ps\n",
    "from pyspark.sql import SparkSession\n",
    "from pyspark.sql import Row\n",
    "\n",
    "from sqlalchemy import create_engine\n",
    "from sqlalchemy import text"
   ]
  },
  {
   "cell_type": "code",
   "execution_count": 81,
   "metadata": {},
   "outputs": [],
   "source": [
    "spark = SparkSession.builder \\\n",
    "    .config(\"spark.driver.extraJavaOptions\", \"-Djava.security.manager=allow\") \\\n",
    "    .config(\"spark.executor.extraJavaOptions\", \"-Djava.security.manager=allow\") \\\n",
    "    .getOrCreate()\n",
    "\n",
    "spark.conf.set(\"spark.sql.session.timeZone\", \"UTC\")"
   ]
  },
  {
   "cell_type": "markdown",
   "metadata": {},
   "source": [
    "## Vérification de l'ETL"
   ]
  },
  {
   "cell_type": "code",
   "execution_count": 82,
   "metadata": {},
   "outputs": [
    {
     "name": "stdout",
     "output_type": "stream",
     "text": [
      "✓ Successfully connected to the database\n"
     ]
    }
   ],
   "source": [
    "# Database connection parameters\n",
    "DB_USER = 'postgres'\n",
    "DB_PASSWORD = 'postgres'\n",
    "DB_HOST = 'localhost'\n",
    "DB_PORT = '5432'\n",
    "DB_NAME = 'postgres'\n",
    "\n",
    "# Create SQLAlchemy engine\n",
    "engine = create_engine(f'postgresql://{DB_USER}:{DB_PASSWORD}@{DB_HOST}:{DB_PORT}/{DB_NAME}')\n",
    "\n",
    "# Test the connection\n",
    "try:\n",
    "    with engine.connect() as conn:\n",
    "        result = conn.execute(text(\"SELECT 1\"))\n",
    "        print(\"✓ Successfully connected to the database\")\n",
    "except Exception as e:\n",
    "    print(f\"Error connecting to database: {e}\")"
   ]
  },
  {
   "cell_type": "code",
   "execution_count": 83,
   "metadata": {},
   "outputs": [
    {
     "name": "stdout",
     "output_type": "stream",
     "text": [
      "\n",
      "Tables in the database:\n",
      "- dim_sector\n",
      "- dim_employee\n",
      "- fact_employee_equipment\n",
      "- fact_business_travel\n",
      "- dim_equipment\n",
      "- dim_location\n",
      "- dim_date_time\n",
      "- dim_mission_type\n",
      "- dim_transport\n"
     ]
    }
   ],
   "source": [
    "# Example: List all tables\n",
    "with engine.connect() as conn:\n",
    "    tables = conn.execute(text(\"\"\"\n",
    "        SELECT table_name \n",
    "        FROM information_schema.tables \n",
    "        WHERE table_schema = 'public'\n",
    "    \"\"\"))\n",
    "    print(\"\\nTables in the database:\")\n",
    "    for table in tables:\n",
    "        print(f\"- {table[0]}\")"
   ]
  },
  {
   "cell_type": "code",
   "execution_count": 97,
   "metadata": {},
   "outputs": [
    {
     "name": "stdout",
     "output_type": "stream",
     "text": [
      "\n",
      "Rows from dim_transport:\n",
      "   transport_id    transport_name emission_factor\n",
      "0             1             plane          0.1994\n",
      "1             2  public transport          0.1373\n",
      "2             3             train          0.0106\n",
      "3             4              taxi          0.1904\n"
     ]
    }
   ],
   "source": [
    "with engine.connect() as conn:\n",
    "    result = conn.execute(text(\"SELECT * FROM dim_transport\"))\n",
    "    df = pd.DataFrame(result.fetchall(), columns=result.keys())\n",
    "    print(\"\\nRows from dim_transport:\")\n",
    "    print(df)"
   ]
  },
  {
   "cell_type": "code",
   "execution_count": 98,
   "metadata": {},
   "outputs": [
    {
     "name": "stdout",
     "output_type": "stream",
     "text": [
      "\n",
      "Rows from dim_sector:\n",
      "   sector_id         sector_name\n",
      "0          1       data engineer\n",
      "1          2  business executive\n",
      "2          3           economist\n",
      "3          4                 hrd\n",
      "4          5   computer engineer\n"
     ]
    }
   ],
   "source": [
    "with engine.connect() as conn:\n",
    "    result = conn.execute(text(\"SELECT * FROM dim_sector\"))\n",
    "    df = pd.DataFrame(result.fetchall(), columns=result.keys())\n",
    "    print(\"\\nRows from dim_sector:\")\n",
    "    print(df)"
   ]
  },
  {
   "cell_type": "code",
   "execution_count": 116,
   "metadata": {},
   "outputs": [
    {
     "name": "stdout",
     "output_type": "stream",
     "text": [
      "\n",
      "Rows from dim_location:\n",
      "   location_id         city    country\n",
      "0            1       berlin  allemagne\n",
      "1            2  los angeles        usa\n",
      "2            3        paris     france\n",
      "3            4     new-york        usa\n",
      "4            5     shanghai      china\n"
     ]
    }
   ],
   "source": [
    "with engine.connect() as conn:\n",
    "    result = conn.execute(text(\"SELECT * FROM dim_location\"))\n",
    "    df = pd.DataFrame(result.fetchall(), columns=result.keys())\n",
    "    print(\"\\nRows from dim_location:\")\n",
    "    print(df.head())"
   ]
  },
  {
   "cell_type": "code",
   "execution_count": 117,
   "metadata": {},
   "outputs": [
    {
     "name": "stdout",
     "output_type": "stream",
     "text": [
      "\n",
      "Rows from dim_date_time:\n",
      "              date_id        date  day  month  year  hour  minute  second\n",
      "0 2024-10-16 20:35:05  2024-10-16   16     10  2024    20      35       5\n",
      "1 2024-10-16 05:53:43  2024-10-16   16     10  2024     5      53      43\n",
      "2 2024-10-16 17:44:25  2024-10-16   16     10  2024    17      44      25\n",
      "3 2024-10-16 10:11:26  2024-10-16   16     10  2024    10      11      26\n",
      "4 2024-10-16 06:22:46  2024-10-16   16     10  2024     6      22      46\n"
     ]
    }
   ],
   "source": [
    "with engine.connect() as conn:\n",
    "    result = conn.execute(text(\"SELECT * FROM dim_date_time\"))\n",
    "    df = pd.DataFrame(result.fetchall(), columns=result.keys())\n",
    "    print(\"\\nRows from dim_date_time:\")\n",
    "    print(df.head())\n",
    "    \n",
    "    "
   ]
  },
  {
   "cell_type": "code",
   "execution_count": 118,
   "metadata": {},
   "outputs": [
    {
     "name": "stdout",
     "output_type": "stream",
     "text": [
      "\n",
      "Rows from dim_mission_type:\n",
      "   mission_type_id mission_type_name\n",
      "0                1        conference\n",
      "1                2       development\n",
      "2                3  business meeting\n",
      "3                4          training\n",
      "4                5           meeting\n"
     ]
    }
   ],
   "source": [
    "with engine.connect() as conn:\n",
    "    result = conn.execute(text(\"SELECT * FROM dim_mission_type\"))\n",
    "    df = pd.DataFrame(result.fetchall(), columns=result.keys())\n",
    "    print(\"\\nRows from dim_mission_type:\")\n",
    "    print(df)"
   ]
  },
  {
   "cell_type": "code",
   "execution_count": 119,
   "metadata": {},
   "outputs": [
    {
     "name": "stdout",
     "output_type": "stream",
     "text": [
      "\n",
      "Rows from dim_employee:\n",
      "              employee_id last_name first_name  birth_date  birth_city  \\\n",
      "0  KeyPers_Berlin_1230000     Name0  FistName0  1993-11-04       osaka   \n",
      "1  KeyPers_Berlin_1230001     Name1  FistName1  1932-11-22  wellington   \n",
      "2  KeyPers_Berlin_1230002     Name2  FistName2  1990-08-12      sidney   \n",
      "3  KeyPers_Berlin_1230003     Name3  FistName3  1965-05-26       rabat   \n",
      "4  KeyPers_Berlin_1230004     Name4  FistName4  1959-01-18    shanghai   \n",
      "\n",
      "  birth_country social_security_number phone_country_code   phone_number  \\\n",
      "0         japan            NS000000000                NaN  +336##0263188   \n",
      "1   new zealand            NS000000001                NaN  +336##0401873   \n",
      "2     australia            NS000000002                NaN  +336##0524126   \n",
      "3         maroc            NS000000003                NaN  +336##0418484   \n",
      "4         china            NS000000004                NaN  +336##0986317   \n",
      "\n",
      "  address_street_number address_street_name address_complement postal_code  \\\n",
      "0                    57          NomVoie940                NaN       #8830   \n",
      "1                    64          NomVoie711                NaN       #9785   \n",
      "2                    94          NomVoie322                NaN       #4816   \n",
      "3                    78          NomVoie593                NaN       #3546   \n",
      "4                    65          NomVoie404                NaN       #6788   \n",
      "\n",
      "  current_city current_country  sector_id       creation_date  \\\n",
      "0       berlin         germany          1 2010-09-09 11:22:17   \n",
      "1       berlin         germany          2 2017-07-24 16:51:18   \n",
      "2       berlin         germany          1 1997-08-20 04:01:46   \n",
      "3       berlin         germany          3 1998-11-17 19:25:01   \n",
      "4       berlin         germany          1 2010-11-10 04:24:37   \n",
      "\n",
      "     last_update_date  \n",
      "0 2010-09-09 11:22:17  \n",
      "1 2017-07-24 16:51:18  \n",
      "2 1997-08-20 04:01:46  \n",
      "3 1998-11-17 19:25:01  \n",
      "4 2010-11-10 04:24:37  \n"
     ]
    }
   ],
   "source": [
    "with engine.connect() as conn:\n",
    "    result = conn.execute(text(\"SELECT * FROM dim_employee\"))\n",
    "    df = pd.DataFrame(result.fetchall(), columns=result.keys())\n",
    "    print(\"\\nRows from dim_employee:\")\n",
    "    print(df.head())"
   ]
  },
  {
   "cell_type": "code",
   "execution_count": 120,
   "metadata": {},
   "outputs": [
    {
     "name": "stdout",
     "output_type": "stream",
     "text": [
      "\n",
      "Rows from dim_equipment:\n",
      "                     equipment_id      equipment_type                 model  \\\n",
      "0  BERLIN_MATERIEL_INFO_202406300               Ecran      jusqu'à 23pouces   \n",
      "1  BERLIN_MATERIEL_INFO_202406301  PC fixe sans ecran  Precision tower 3xxx   \n",
      "2  BERLIN_MATERIEL_INFO_202406240          Disque dur     modèle par défaut   \n",
      "3  BERLIN_MATERIEL_INFO_202406241  PC fixe sans ecran  Prodesk (Tower, SFF)   \n",
      "4  BERLIN_MATERIEL_INFO_202406242         PC portable      Moyenne 13pouces   \n",
      "\n",
      "  co2_impact_kg  \n",
      "0        590.00  \n",
      "1        300.00  \n",
      "2         10.00  \n",
      "3        300.00  \n",
      "4        365.00  \n"
     ]
    }
   ],
   "source": [
    "with engine.connect() as conn:\n",
    "    result = conn.execute(text(\"SELECT * FROM dim_equipment\"))\n",
    "    df = pd.DataFrame(result.fetchall(), columns=result.keys())\n",
    "    print(\"\\nRows from dim_equipment:\")\n",
    "    print(df.head())"
   ]
  },
  {
   "cell_type": "code",
   "execution_count": 121,
   "metadata": {},
   "outputs": [
    {
     "name": "stdout",
     "output_type": "stream",
     "text": [
      "\n",
      "Rows from fact_business_travel:\n",
      "          travel_id             employee_id  mission_type_id  \\\n",
      "0  BERLIN_202410160  KeyPers_Berlin_1233137                1   \n",
      "1  BERLIN_202410161  KeyPers_Berlin_1230804                1   \n",
      "2  BERLIN_202410162  KeyPers_Berlin_1233236                2   \n",
      "3  BERLIN_202410163  KeyPers_Berlin_1233797                3   \n",
      "4  BERLIN_202410164  KeyPers_Berlin_1231232                4   \n",
      "\n",
      "   departure_location_id  destination_location_id  transport_id  \\\n",
      "0                     62                       49             1   \n",
      "1                     62                       42             1   \n",
      "2                     62                       36             1   \n",
      "3                     62                       37             1   \n",
      "4                     62                       64             1   \n",
      "\n",
      "              date_id distance_km  is_round_trip  \n",
      "0 2024-10-16 20:35:05    12805.02           True  \n",
      "1 2024-10-16 05:53:43    20461.82           True  \n",
      "2 2024-10-16 17:44:25    32178.18           True  \n",
      "3 2024-10-16 10:11:26     5230.42           True  \n",
      "4 2024-10-16 06:22:46    13457.86           True  \n"
     ]
    }
   ],
   "source": [
    "with engine.connect() as conn:\n",
    "    result = conn.execute(text(\"SELECT * FROM fact_business_travel\"))\n",
    "    df = pd.DataFrame(result.fetchall(), columns=result.keys())\n",
    "    print(\"\\nRows from fact_business_travel:\")\n",
    "    print(df.head())"
   ]
  },
  {
   "cell_type": "code",
   "execution_count": 122,
   "metadata": {},
   "outputs": [
    {
     "name": "stdout",
     "output_type": "stream",
     "text": [
      "\n",
      "Rows from fact_employee_equipment:\n",
      "                      id_materiel                    equipment_id  \\\n",
      "0  BERLIN_MATERIEL_INFO_202406300  BERLIN_MATERIEL_INFO_202406300   \n",
      "1  BERLIN_MATERIEL_INFO_202406301  BERLIN_MATERIEL_INFO_202406301   \n",
      "2  BERLIN_MATERIEL_INFO_202406240  BERLIN_MATERIEL_INFO_202406240   \n",
      "3  BERLIN_MATERIEL_INFO_202406241  BERLIN_MATERIEL_INFO_202406241   \n",
      "4  BERLIN_MATERIEL_INFO_202406242  BERLIN_MATERIEL_INFO_202406242   \n",
      "\n",
      "              employee_id  location_id    purchase_date_id  \n",
      "0  KeyPers_Berlin_1230163           67 2024-06-30 08:28:49  \n",
      "1  KeyPers_Berlin_1230240           67 2024-06-30 09:13:13  \n",
      "2  KeyPers_Berlin_1232208           67 2024-06-24 10:50:25  \n",
      "3  KeyPers_Berlin_1231193           67 2024-06-24 10:54:42  \n",
      "4  KeyPers_Berlin_1231013           67 2024-06-24 16:21:13  \n"
     ]
    }
   ],
   "source": [
    "with engine.connect() as conn:\n",
    "    result = conn.execute(text(\"SELECT * FROM fact_employee_equipment\"))\n",
    "    df = pd.DataFrame(result.fetchall(), columns=result.keys())\n",
    "    print(\"\\nRows from fact_employee_equipment:\")\n",
    "    print(df.head())"
   ]
  }
 ],
 "metadata": {
  "kernelspec": {
   "display_name": "venv",
   "language": "python",
   "name": "python3"
  },
  "language_info": {
   "codemirror_mode": {
    "name": "ipython",
    "version": 3
   },
   "file_extension": ".py",
   "mimetype": "text/x-python",
   "name": "python",
   "nbconvert_exporter": "python",
   "pygments_lexer": "ipython3",
   "version": "3.12.2"
  }
 },
 "nbformat": 4,
 "nbformat_minor": 1
}
