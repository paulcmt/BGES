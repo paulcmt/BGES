{
 "cells": [
  {
   "cell_type": "markdown",
   "metadata": {},
   "source": [
    "# BGES Project : Questions\n",
    "\n"
   ]
  },
  {
   "cell_type": "code",
   "execution_count": 2,
   "metadata": {},
   "outputs": [],
   "source": [
    "import os\n",
    "os.environ[\"PYARROW_IGNORE_TIMEZONE\"] = \"1\""
   ]
  },
  {
   "cell_type": "code",
   "execution_count": 3,
   "metadata": {},
   "outputs": [],
   "source": [
    "import pandas as pd\n",
    "import numpy as np\n",
    "from datetime import datetime, date\n",
    "\n",
    "import pyspark.pandas as ps\n",
    "from pyspark.sql import SparkSession\n",
    "from pyspark.sql import Row\n",
    "\n",
    "from sqlalchemy import create_engine\n",
    "from sqlalchemy import text"
   ]
  },
  {
   "cell_type": "code",
   "execution_count": 4,
   "metadata": {},
   "outputs": [
    {
     "name": "stderr",
     "output_type": "stream",
     "text": [
      "25/04/17 11:40:10 WARN Utils: Your hostname, MacBook-Pro-de-Paul.local resolves to a loopback address: 127.0.0.1; using 172.20.10.3 instead (on interface en0)\n",
      "25/04/17 11:40:10 WARN Utils: Set SPARK_LOCAL_IP if you need to bind to another address\n",
      "Setting default log level to \"WARN\".\n",
      "To adjust logging level use sc.setLogLevel(newLevel). For SparkR, use setLogLevel(newLevel).\n",
      "25/04/17 11:40:10 WARN NativeCodeLoader: Unable to load native-hadoop library for your platform... using builtin-java classes where applicable\n"
     ]
    }
   ],
   "source": [
    "spark = SparkSession.builder \\\n",
    "    .config(\"spark.driver.extraJavaOptions\", \"-Djava.security.manager=allow\") \\\n",
    "    .config(\"spark.executor.extraJavaOptions\", \"-Djava.security.manager=allow\") \\\n",
    "    .getOrCreate()\n",
    "\n",
    "spark.conf.set(\"spark.sql.session.timeZone\", \"UTC\")"
   ]
  },
  {
   "cell_type": "markdown",
   "metadata": {},
   "source": [
    "## Vérification de l'ETL"
   ]
  },
  {
   "cell_type": "code",
   "execution_count": 10,
   "metadata": {},
   "outputs": [
    {
     "name": "stdout",
     "output_type": "stream",
     "text": [
      "✓ Successfully connected to the database\n"
     ]
    }
   ],
   "source": [
    "# Database connection parameters\n",
    "DB_USER = 'postgres'\n",
    "DB_PASSWORD = 'postgres'\n",
    "DB_HOST = 'localhost'\n",
    "DB_PORT = '5432'\n",
    "DB_NAME = 'postgres'\n",
    "\n",
    "# Create SQLAlchemy engine\n",
    "engine = create_engine(f'postgresql://{DB_USER}:{DB_PASSWORD}@{DB_HOST}:{DB_PORT}/{DB_NAME}')\n",
    "\n",
    "# Test the connection\n",
    "try:\n",
    "    with engine.connect() as conn:\n",
    "        result = conn.execute(text(\"SELECT 1\"))\n",
    "        print(\"✓ Successfully connected to the database\")\n",
    "except Exception as e:\n",
    "    print(f\"Error connecting to database: {e}\")"
   ]
  },
  {
   "cell_type": "code",
   "execution_count": 63,
   "metadata": {},
   "outputs": [
    {
     "name": "stdout",
     "output_type": "stream",
     "text": [
      "\n",
      "Tables in the database:\n",
      "- dim_mission_type\n",
      "- fact_business_travel\n",
      "- dim_sector\n",
      "- dim_employee\n",
      "- fact_employee_equipment\n",
      "- dim_equipment\n",
      "- dim_date_time\n",
      "- dim_transport\n",
      "- dim_location\n"
     ]
    }
   ],
   "source": [
    "# Example: List all tables\n",
    "with engine.connect() as conn:\n",
    "    tables = conn.execute(text(\"\"\"\n",
    "        SELECT table_name \n",
    "        FROM information_schema.tables \n",
    "        WHERE table_schema = 'public'\n",
    "    \"\"\"))\n",
    "    print(\"\\nTables in the database:\")\n",
    "    for table in tables:\n",
    "        print(f\"- {table[0]}\")"
   ]
  },
  {
   "cell_type": "code",
   "execution_count": 64,
   "metadata": {},
   "outputs": [
    {
     "name": "stdout",
     "output_type": "stream",
     "text": [
      "\n",
      "Rows from dim_transport:\n",
      "   transport_id    transport_name emission_factor\n",
      "0             1             plane          0.0000\n",
      "1             2  public transport          0.0000\n",
      "2             3             train          0.0000\n",
      "3             4              taxi          0.0000\n"
     ]
    }
   ],
   "source": [
    "with engine.connect() as conn:\n",
    "    result = conn.execute(text(\"SELECT * FROM dim_transport\"))\n",
    "    df = pd.DataFrame(result.fetchall(), columns=result.keys())\n",
    "    print(\"\\nRows from dim_transport:\")\n",
    "    print(df)"
   ]
  },
  {
   "cell_type": "code",
   "execution_count": 65,
   "metadata": {},
   "outputs": [
    {
     "name": "stdout",
     "output_type": "stream",
     "text": [
      "\n",
      "Rows from dim_sector:\n",
      "   sector_id         sector_name\n",
      "0          1       data engineer\n",
      "1          2  business executive\n",
      "2          3           economist\n",
      "3          4                 hrd\n",
      "4          5   computer engineer\n"
     ]
    }
   ],
   "source": [
    "with engine.connect() as conn:\n",
    "    result = conn.execute(text(\"SELECT * FROM dim_sector\"))\n",
    "    df = pd.DataFrame(result.fetchall(), columns=result.keys())\n",
    "    print(\"\\nRows from dim_sector:\")\n",
    "    print(df)"
   ]
  },
  {
   "cell_type": "code",
   "execution_count": 66,
   "metadata": {},
   "outputs": [
    {
     "name": "stdout",
     "output_type": "stream",
     "text": [
      "\n",
      "Rows from dim_location:\n",
      "    location_id         city    country\n",
      "0             1       berlin  allemagne\n",
      "1             2  los angeles        usa\n",
      "2             3        paris     france\n",
      "3             4     new-york        usa\n",
      "4             5     shanghai      china\n",
      "..          ...          ...        ...\n",
      "62           63     helsinki   finlande\n",
      "63           64   washington        usa\n",
      "64           65       mexico     mexico\n",
      "65           66         oslo    norvège\n",
      "66           67       berlin    germany\n",
      "\n",
      "[67 rows x 3 columns]\n"
     ]
    }
   ],
   "source": [
    "with engine.connect() as conn:\n",
    "    result = conn.execute(text(\"SELECT * FROM dim_location\"))\n",
    "    df = pd.DataFrame(result.fetchall(), columns=result.keys())\n",
    "    print(\"\\nRows from dim_location:\")\n",
    "    print(df)"
   ]
  },
  {
   "cell_type": "code",
   "execution_count": 67,
   "metadata": {},
   "outputs": [
    {
     "name": "stdout",
     "output_type": "stream",
     "text": [
      "\n",
      "Rows from dim_date_time:\n",
      "                  date_id        date  day  month  year  hour  minute  second\n",
      "0     2024-10-16 20:35:05  2024-10-16   16     10  2024    20      35       5\n",
      "1     2024-10-16 05:53:43  2024-10-16   16     10  2024     5      53      43\n",
      "2     2024-10-16 17:44:25  2024-10-16   16     10  2024    17      44      25\n",
      "3     2024-10-16 10:11:26  2024-10-16   16     10  2024    10      11      26\n",
      "4     2024-10-16 06:22:46  2024-10-16   16     10  2024     6      22      46\n",
      "...                   ...         ...  ...    ...   ...   ...     ...     ...\n",
      "32355 2024-06-29 11:30:19  2024-06-29   29      6  2024    11      30      19\n",
      "32356 2024-06-29 14:46:34  2024-06-29   29      6  2024    14      46      34\n",
      "32357 2024-06-29 16:41:39  2024-06-29   29      6  2024    16      41      39\n",
      "32358 2024-06-29 15:36:29  2024-06-29   29      6  2024    15      36      29\n",
      "32359 2024-06-29 14:12:29  2024-06-29   29      6  2024    14      12      29\n",
      "\n",
      "[32360 rows x 8 columns]\n"
     ]
    }
   ],
   "source": [
    "with engine.connect() as conn:\n",
    "    result = conn.execute(text(\"SELECT * FROM dim_date_time\"))\n",
    "    df = pd.DataFrame(result.fetchall(), columns=result.keys())\n",
    "    print(\"\\nRows from dim_date_time:\")\n",
    "    print(df)"
   ]
  },
  {
   "cell_type": "code",
   "execution_count": 68,
   "metadata": {},
   "outputs": [
    {
     "name": "stdout",
     "output_type": "stream",
     "text": [
      "\n",
      "Rows from dim_mission_type:\n",
      "   mission_type_id mission_type_name\n",
      "0                1        conference\n",
      "1                2       development\n",
      "2                3  business meeting\n",
      "3                4          training\n",
      "4                5           meeting\n"
     ]
    }
   ],
   "source": [
    "with engine.connect() as conn:\n",
    "    result = conn.execute(text(\"SELECT * FROM dim_mission_type\"))\n",
    "    df = pd.DataFrame(result.fetchall(), columns=result.keys())\n",
    "    print(\"\\nRows from dim_mission_type:\")\n",
    "    print(df)"
   ]
  },
  {
   "cell_type": "code",
   "execution_count": 69,
   "metadata": {},
   "outputs": [
    {
     "name": "stdout",
     "output_type": "stream",
     "text": [
      "\n",
      "Rows from dim_employee:\n",
      "                    employee_id last_name   first_name  birth_date  \\\n",
      "0        KeyPers_Berlin_1230000     Name0    FistName0  1993-11-04   \n",
      "1        KeyPers_Berlin_1230001     Name1    FistName1  1932-11-22   \n",
      "2        KeyPers_Berlin_1230002     Name2    FistName2  1990-08-12   \n",
      "3        KeyPers_Berlin_1230003     Name3    FistName3  1965-05-26   \n",
      "4        KeyPers_Berlin_1230004     Name4    FistName4  1959-01-18   \n",
      "...                         ...       ...          ...         ...   \n",
      "20567  KeyPers_Shanghai_1230995   Name995  FistName995  2011-01-13   \n",
      "20568  KeyPers_Shanghai_1230996   Name996  FistName996  1939-11-10   \n",
      "20569  KeyPers_Shanghai_1230997   Name997  FistName997  2003-05-11   \n",
      "20570  KeyPers_Shanghai_1230998   Name998  FistName998  1934-11-22   \n",
      "20571  KeyPers_Shanghai_1230999   Name999  FistName999  1992-09-21   \n",
      "\n",
      "        birth_city birth_country social_security_number phone_country_code  \\\n",
      "0            osaka         japan            NS000000000                NaN   \n",
      "1       wellington   new zealand            NS000000001                NaN   \n",
      "2           sidney     australia            NS000000002                NaN   \n",
      "3            rabat         maroc            NS000000003                NaN   \n",
      "4         shanghai         china            NS000000004                NaN   \n",
      "...            ...           ...                    ...                ...   \n",
      "20567        rabat         maroc            NS000000995                NaN   \n",
      "20568        osaka         japan            NS000000996                NaN   \n",
      "20569    vancouver        canada            NS000000997                NaN   \n",
      "20570   wellington   new zealand            NS000000998                NaN   \n",
      "20571  los angeles           usa            NS000000999                NaN   \n",
      "\n",
      "        phone_number address_street_number address_street_name  \\\n",
      "0      +336##0263188                    57          NomVoie940   \n",
      "1      +336##0401873                    64          NomVoie711   \n",
      "2      +336##0524126                    94          NomVoie322   \n",
      "3      +336##0418484                    78          NomVoie593   \n",
      "4      +336##0986317                    65          NomVoie404   \n",
      "...              ...                   ...                 ...   \n",
      "20567  +336##0105694                    46        NomVoie59995   \n",
      "20568  +336##0016997                    92        NomVoie68996   \n",
      "20569  +336##0719029                    53        NomVoie77997   \n",
      "20570  +336##0700036                    62        NomVoie99998   \n",
      "20571  +336##0245810                     3         NomVoie2999   \n",
      "\n",
      "      address_complement postal_code current_city current_country  sector_id  \\\n",
      "0                    NaN       #8830       berlin         germany          1   \n",
      "1                    NaN       #9785       berlin         germany          2   \n",
      "2                    NaN       #4816       berlin         germany          1   \n",
      "3                    NaN       #3546       berlin         germany          3   \n",
      "4                    NaN       #6788       berlin         germany          1   \n",
      "...                  ...         ...          ...             ...        ...   \n",
      "20567                NaN       #0393     shanghai           china          5   \n",
      "20568                NaN       #9697     shanghai           china          5   \n",
      "20569                NaN       #6885     shanghai           china          1   \n",
      "20570                NaN       #6768     shanghai           china          1   \n",
      "20571                NaN       #8414     shanghai           china          1   \n",
      "\n",
      "            creation_date    last_update_date  \n",
      "0     2010-09-09 11:22:17 2010-09-09 11:22:17  \n",
      "1     2017-07-24 16:51:18 2017-07-24 16:51:18  \n",
      "2     1997-08-20 04:01:46 1997-08-20 04:01:46  \n",
      "3     1998-11-17 19:25:01 1998-11-17 19:25:01  \n",
      "4     2010-11-10 04:24:37 2010-11-10 04:24:37  \n",
      "...                   ...                 ...  \n",
      "20567 1998-01-08 12:59:54 1998-01-08 12:59:54  \n",
      "20568 2002-05-22 18:52:19 2002-05-22 18:52:19  \n",
      "20569 2000-02-21 21:58:09 2000-02-21 21:58:09  \n",
      "20570 2016-10-23 11:35:08 2016-10-23 11:35:08  \n",
      "20571 2002-10-09 11:18:45 2002-10-09 11:18:45  \n",
      "\n",
      "[20572 rows x 18 columns]\n"
     ]
    }
   ],
   "source": [
    "with engine.connect() as conn:\n",
    "    result = conn.execute(text(\"SELECT * FROM dim_employee\"))\n",
    "    df = pd.DataFrame(result.fetchall(), columns=result.keys())\n",
    "    print(\"\\nRows from dim_employee:\")\n",
    "    print(df)"
   ]
  },
  {
   "cell_type": "code",
   "execution_count": 70,
   "metadata": {},
   "outputs": [
    {
     "name": "stdout",
     "output_type": "stream",
     "text": [
      "\n",
      "Rows from dim_equipment:\n",
      "                          equipment_id      equipment_type  \\\n",
      "0       BERLIN_MATERIEL_INFO_202406300               Ecran   \n",
      "1       BERLIN_MATERIEL_INFO_202406301  PC fixe sans ecran   \n",
      "2       BERLIN_MATERIEL_INFO_202406240          Disque dur   \n",
      "3       BERLIN_MATERIEL_INFO_202406241  PC fixe sans ecran   \n",
      "4       BERLIN_MATERIEL_INFO_202406242         PC portable   \n",
      "...                                ...                 ...   \n",
      "8199  Shanghai_MATERIEL_INFO_202406293  PC fixe sans ecran   \n",
      "8200  Shanghai_MATERIEL_INFO_202406294         PC portable   \n",
      "8201  Shanghai_MATERIEL_INFO_202406295   Station d'accueil   \n",
      "8202  Shanghai_MATERIEL_INFO_202406296  PC fixe sans ecran   \n",
      "8203  Shanghai_MATERIEL_INFO_202406297          Smartphone   \n",
      "\n",
      "                     model co2_impact_kg  \n",
      "0         jusqu'à 23pouces        590.00  \n",
      "1     Precision tower 3xxx        300.00  \n",
      "2        modèle par défaut         10.00  \n",
      "3     Prodesk (Tower, SFF)        300.00  \n",
      "4         Moyenne 13pouces        365.00  \n",
      "...                    ...           ...  \n",
      "8199         Rasberry pi 4        300.00  \n",
      "8200          ZBook Studio        365.00  \n",
      "8201     modèle par défaut         26.00  \n",
      "8202  Precision tower 5xxx        300.00  \n",
      "8203     modèle par défaut         63.00  \n",
      "\n",
      "[8204 rows x 4 columns]\n"
     ]
    }
   ],
   "source": [
    "with engine.connect() as conn:\n",
    "    result = conn.execute(text(\"SELECT * FROM dim_equipment\"))\n",
    "    df = pd.DataFrame(result.fetchall(), columns=result.keys())\n",
    "    print(\"\\nRows from dim_equipment:\")\n",
    "    print(df)"
   ]
  }
 ],
 "metadata": {
  "kernelspec": {
   "display_name": "venv",
   "language": "python",
   "name": "python3"
  },
  "language_info": {
   "codemirror_mode": {
    "name": "ipython",
    "version": 3
   },
   "file_extension": ".py",
   "mimetype": "text/x-python",
   "name": "python",
   "nbconvert_exporter": "python",
   "pygments_lexer": "ipython3",
   "version": "3.12.2"
  }
 },
 "nbformat": 4,
 "nbformat_minor": 1
}
